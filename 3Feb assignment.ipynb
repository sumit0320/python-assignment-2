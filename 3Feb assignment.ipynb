{
 "cells": [
  {
   "cell_type": "markdown",
   "id": "e02f3f31-2d22-4e6a-99ae-559c42780a81",
   "metadata": {},
   "source": [
    "# Q1. Which keyword is used to create a function? Create a function to return a list of odd numbers in the range of 1 to 25.\n",
    "\n",
    "the def keyword is used to create a function. "
   ]
  },
  {
   "cell_type": "code",
   "execution_count": null,
   "id": "8da4f88b-9379-4249-9da9-d0835dec571d",
   "metadata": {},
   "outputs": [],
   "source": [
    "def odd_number():\n",
    "    odd_numbers = []\n",
    "    for num in range(1, 26):\n",
    "        if num % 2 != 0:\n",
    "            odd_numbers.append(num)\n",
    "    return odd_numbers"
   ]
  },
  {
   "cell_type": "code",
   "execution_count": 9,
   "id": "6973d997-5a25-49cd-90cd-fed22854fba9",
   "metadata": {},
   "outputs": [
    {
     "data": {
      "text/plain": [
       "[1, 3, 5, 7, 9, 11, 13, 15, 17, 19, 21, 23, 25]"
      ]
     },
     "execution_count": 9,
     "metadata": {},
     "output_type": "execute_result"
    }
   ],
   "source": [
    "odd_number()"
   ]
  },
  {
   "cell_type": "markdown",
   "id": "1ee0b40b-8062-4536-b202-6a5fef8fa140",
   "metadata": {},
   "source": [
    "# Q2. Why *args and **kwargs is used in some functions? Create a function each for *args and **kwargs to demonstrate their \n",
    "\n",
    "*args and **kwargs are used in function definitions. The *args is used to pass a variable number of non-keyworded arguments list to a function. The **kwargs is used to pass a variable number of keyworded arguments dictionary to a function."
   ]
  },
  {
   "cell_type": "code",
   "execution_count": null,
   "id": "361a6012-64f6-4d49-8d3b-89efe0ae578d",
   "metadata": {},
   "outputs": [],
   "source": [
    "def test1(*args):\n",
    "    l = []\n",
    "    for i in args :\n",
    "        if type (i) == list :\n",
    "            l.append(i)\n",
    "            return l"
   ]
  },
  {
   "cell_type": "code",
   "execution_count": null,
   "id": "e38a201c-3d60-4401-b63f-5662c3d45145",
   "metadata": {},
   "outputs": [
    {
     "data": {
      "text/plain": [
       "[[1, 2, 3, 4, 5]]"
      ]
     },
     "execution_count": 11,
     "metadata": {},
     "output_type": "execute_result"
    }
   ],
   "source": [
    "test1((1,2,3,4),[1,2,3,4,5],[11,22,33],\"SUMIT\",[7,8,9])"
   ]
  },
  {
   "cell_type": "code",
   "execution_count": null,
   "id": "cf6026d6-65ea-4068-a854-05a2ed35b29c",
   "metadata": {},
   "outputs": [],
   "source": [
    "def test2(**kwargs):\n",
    "    return kwargs"
   ]
  },
  {
   "cell_type": "code",
   "execution_count": 13,
   "id": "81da7de2-939f-4cd5-a0c7-3ee46e3fb9fb",
   "metadata": {},
   "outputs": [
    {
     "data": {
      "text/plain": [
       "{'a': (1, 2, 3), 'b': 22, 'c': 'sam'}"
      ]
     },
     "execution_count": 13,
     "metadata": {},
     "output_type": "execute_result"
    }
   ],
   "source": [
    "test2(a=(1,2,3), b=22, c=\"sam\")"
   ]
  },
  {
   "cell_type": "markdown",
   "id": "e1d33417-30c8-4ff2-a4c9-4e790c4237b7",
   "metadata": {},
   "source": [
    "# Q3. What is an iterator in python? Name the method used to initialise the iterator object and the method used for iteration. Use these methods to print the first five elements of the given list [2, 4, 6, 8, 10, 12, 14, 16,18, 20].\n",
    "\n",
    "1. An iterator in Python is an object that is used to iterate over iterable objects like lists, tuples, dicts, and sets. The Python iterators object is initialized using the iter() method. It uses the next() method for iteration.\n",
    "2. The __iter__() method is called for the initialization of an iterator. This returns an iterator object. The __next__() method returns the next value from the iterator."
   ]
  },
  {
   "cell_type": "code",
   "execution_count": 16,
   "id": "913ac895-c24b-4da1-a9c7-880d844e07b8",
   "metadata": {},
   "outputs": [
    {
     "name": "stdout",
     "output_type": "stream",
     "text": [
      "2\n",
      "4\n",
      "6\n",
      "8\n",
      "10\n"
     ]
    }
   ],
   "source": [
    "l = [2, 4, 6, 8, 10, 12, 14, 16, 18, 20]\n",
    "my_iterator = iter(l)\n",
    "for _ in range(5):\n",
    "    element = next(my_iterator)\n",
    "    print(element)\n"
   ]
  },
  {
   "cell_type": "markdown",
   "id": "23214722-44f9-4221-96dd-d79d38696354",
   "metadata": {},
   "source": [
    "# Q4. What is a generator function in python? Why yield keyword is used? Give an example of a generator function.\n",
    "\n",
    "A generator function is a special type of function that returns an iterator. It uses the yield keyword instead of the return keyword to generate a sequence of values."
   ]
  },
  {
   "cell_type": "code",
   "execution_count": 23,
   "id": "62aa1d1c-ec3a-4db5-ac14-c5753bd9152e",
   "metadata": {},
   "outputs": [],
   "source": [
    "def test_fib(n):\n",
    "    a,b = 0,1 \n",
    "    for i in range(n) :\n",
    "        yield a\n",
    "        a,b = b,a+b"
   ]
  },
  {
   "cell_type": "code",
   "execution_count": 24,
   "id": "9cd67774-769d-421c-b368-2767fcac1ab0",
   "metadata": {},
   "outputs": [
    {
     "name": "stdout",
     "output_type": "stream",
     "text": [
      "0\n",
      "1\n",
      "1\n",
      "2\n",
      "3\n",
      "5\n",
      "8\n",
      "13\n",
      "21\n",
      "34\n"
     ]
    }
   ],
   "source": [
    "for i in test_fib(10):\n",
    "    print(i)"
   ]
  },
  {
   "cell_type": "markdown",
   "id": "3b842d4b-7124-4dd3-baca-ef94d1b2e0da",
   "metadata": {},
   "source": [
    "# Q5. Create a generator function for prime numbers less than 1000. Use the next() method to print the first 20 prime numbers."
   ]
  },
  {
   "cell_type": "code",
   "execution_count": 25,
   "id": "07ac4e3e-63e2-45d7-a4e7-2ab6c9175eab",
   "metadata": {},
   "outputs": [],
   "source": [
    "def prime_no():\n",
    "    primes = []\n",
    "    num = 2\n",
    "    while True:\n",
    "        is_prime = True\n",
    "        for prime in primes:\n",
    "            if num % prime == 0:\n",
    "                is_prime = False\n",
    "                break\n",
    "        if is_prime:\n",
    "            primes.append(num)\n",
    "            yield num\n",
    "        num += 1"
   ]
  },
  {
   "cell_type": "code",
   "execution_count": 31,
   "id": "ba563940-ecdb-4715-aff5-5b76bb75ee9d",
   "metadata": {},
   "outputs": [],
   "source": [
    "prime_gen = prime_no()"
   ]
  },
  {
   "cell_type": "code",
   "execution_count": 32,
   "id": "89dd15c7-5bdd-44c5-8cc6-b37e6aa8d322",
   "metadata": {},
   "outputs": [
    {
     "name": "stdout",
     "output_type": "stream",
     "text": [
      "2\n",
      "3\n",
      "5\n",
      "7\n",
      "11\n",
      "13\n",
      "17\n",
      "19\n",
      "23\n",
      "29\n",
      "31\n",
      "37\n",
      "41\n",
      "43\n",
      "47\n",
      "53\n",
      "59\n",
      "61\n",
      "67\n",
      "71\n"
     ]
    }
   ],
   "source": [
    "for _ in range(20):\n",
    "    print(next(prime_gen))"
   ]
  },
  {
   "cell_type": "code",
   "execution_count": null,
   "id": "759be8d1-6392-41ff-b69c-a471da55e96f",
   "metadata": {},
   "outputs": [],
   "source": []
  }
 ],
 "metadata": {
  "kernelspec": {
   "display_name": "Python 3 (ipykernel)",
   "language": "python",
   "name": "python3"
  },
  "language_info": {
   "codemirror_mode": {
    "name": "ipython",
    "version": 3
   },
   "file_extension": ".py",
   "mimetype": "text/x-python",
   "name": "python",
   "nbconvert_exporter": "python",
   "pygments_lexer": "ipython3",
   "version": "3.10.8"
  }
 },
 "nbformat": 4,
 "nbformat_minor": 5
}
